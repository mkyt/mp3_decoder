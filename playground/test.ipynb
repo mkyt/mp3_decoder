{
 "cells": [
  {
   "cell_type": "markdown",
   "metadata": {},
   "source": [
    "# MP3 format\n",
    "\n",
    "https://en.wikipedia.org/wiki/MP3\n",
    "\n",
    "frameの繰り返しで、\n",
    "frameはheaderとdataからなる。\n",
    "\n",
    "headerの構造の詳細は\n",
    "http://mpgedit.org/mpgedit/mpeg_format/mpeghdr.htm\n",
    "にある。\n",
    "\n",
    "# ID3 tag\n",
    "\n",
    "https://en.wikipedia.org/wiki/ID3\n",
    "\n",
    "ID3v1.1とID3v2.{3|4}が主流。これらは全く異なる。\n",
    "\n",
    "## ID3v1.1\n",
    "ファイルの末尾128byteに置かれる。\n",
    "\n",
    "\n",
    "## ID3v2.{3|4}\n",
    "ファイルの先頭に置かれる。\n",
    "可変長で、KVSのようになっている。\n",
    "\n",
    "http://takaaki.info/wp-content/uploads/2013/01/ID3v2.3.0J.html\n"
   ]
  },
  {
   "cell_type": "code",
   "execution_count": 1,
   "metadata": {},
   "outputs": [],
   "source": [
    "import sys\n",
    "import os.path\n",
    "sys.path.append(os.path.abspath('..'))\n",
    "\n",
    "import binary\n",
    "import id3\n",
    "import mp3file\n",
    "import mp3frame\n",
    "import importlib\n",
    "importlib.reload(binary)\n",
    "importlib.reload(id3)\n",
    "importlib.reload(mp3file)\n",
    "importlib.reload(mp3frame)\n",
    "data = open('test.mp3', 'rb').read()"
   ]
  },
  {
   "cell_type": "code",
   "execution_count": 2,
   "metadata": {},
   "outputs": [
    {
     "name": "stdout",
     "output_type": "stream",
     "text": [
      "150338\n",
      "150338\n",
      "frame_sync: value=2047, offset=0, bits=11\n",
      "mpeg_audio_version: value=<MPEGAudioVersionID.VERSION_1: 3>, offset=11, bits=2\n",
      "layer_description: value=<LayerDescription.LAYER_III: 1>, offset=13, bits=2\n",
      "protection: value=1, offset=15, bits=1\n",
      "bitrate_index: value=14, offset=16, bits=4\n",
      "sample_rate_index: value=0, offset=20, bits=2\n",
      "padding: value=False, offset=22, bits=1\n",
      "private: value=False, offset=23, bits=1\n",
      "channel_mode: value=<ChannelMode.JOINT_STEREO: 1>, offset=24, bits=2\n",
      "mode_extension: value=2, offset=26, bits=2\n",
      "copyright: value=False, offset=28, bits=1\n",
      "original: value=True, offset=29, bits=1\n",
      "emphasis: value=0, offset=30, bits=2\n",
      "32\n",
      "4\n",
      "44100\n",
      "320\n",
      "1044\n"
     ]
    }
   ],
   "source": [
    "tag = id3.ID3v2Tag(data)\n",
    "#for frame in tag.frames:\n",
    "#    header, content = frame\n",
    "#    header.dbg()\n",
    "#    if hasattr(content, 'text'):\n",
    "#        print(content.text)\n",
    "#    print()\n",
    "offset = tag.size\n",
    "print(offset)\n",
    "offset = mp3file.find_next_frame(data, offset)\n",
    "print(offset)\n",
    "frame = mp3frame.MP3Frame(data[offset:])\n",
    "frame.header.dbg()\n",
    "print(frame.header.bits)\n",
    "print(frame.header.size)\n",
    "print(frame.header.sample_rate)\n",
    "print(frame.header.bitrate)\n",
    "print(frame.header.frame_length)"
   ]
  },
  {
   "cell_type": "code",
   "execution_count": null,
   "metadata": {},
   "outputs": [],
   "source": []
  }
 ],
 "metadata": {
  "kernelspec": {
   "display_name": "Python 3",
   "language": "python",
   "name": "python3"
  },
  "language_info": {
   "codemirror_mode": {
    "name": "ipython",
    "version": 3
   },
   "file_extension": ".py",
   "mimetype": "text/x-python",
   "name": "python",
   "nbconvert_exporter": "python",
   "pygments_lexer": "ipython3",
   "version": "3.7.3"
  }
 },
 "nbformat": 4,
 "nbformat_minor": 4
}
